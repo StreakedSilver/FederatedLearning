{
 "cells": [
  {
   "cell_type": "markdown",
   "id": "fca99270",
   "metadata": {},
   "source": [
    "Consider the following (neural network) training optimization problem. \n",
    "\n",
    "\\begin{equation*}\n",
    "\\begin{aligned}\n",
    "\\text{minimize}_{x:=(z_1,z_2,w_1,w_2)}&\\quad \\left(\\frac{1}{2N_{train}}\\sum_{j=1}^{N_{train}}\\left(w_1\\sigma(u_j^Tz_1)+w_2\\sigma(u_j^Tz_2)-v_j\\right)^2\\right)+\\frac{\\lambda}{2}\\left(\\|z_1\\|^2+\\|z_2\\|^2+w_1^2+w_2^2\\right).\n",
    "\\end{aligned}\n",
    "\\end{equation*}\n",
    "\n",
    "The notation is as follows.\n",
    "\n",
    "- $N_{train}$ denotes the number of training data points.\n",
    "\n",
    "\n",
    "- $u_j \\in \\mathbb{R}^{784\\times 1}$ is the data of the $j$th training image (equivalent to $j$th column of \"U_train\" in the code discussed on February 3)\n",
    "\n",
    "\n",
    "- $v_j \\in \\{+1,-1\\}$ denotes the true label of the $j$th image for being a $5$ digit or not \n",
    "\n",
    "\n",
    "- $z_1 \\in \\mathbb{R}^{784\\times 1}$ and $z_2 \\in \\mathbb{R}^{784\\times 1}$\n",
    "\n",
    "\n",
    "- $w_1 \\in \\mathbb{R}$ and $w_2 \\in \\mathbb{R}$ \n",
    "\n",
    "\n",
    "- $\\sigma(y) = \\dfrac{e^y-e^{-y}}{e^y+e^{-y}}$ for $y \\in \\mathbb{R}$\n",
    "\n",
    "\n",
    "- $\\lambda >0$ is a regularization parameter\n",
    "\n",
    "\n",
    "- Note that the decision vector $x$ is given by $x:=(z_1,z_2,w_1,w_2)$ that is in $\\mathbb{R}^{1570}$\n",
    "\n",
    "\n",
    "\n",
    "Obtain the formula of the gradient mapping of the objective function. You may utilize the chain rule of calculus. Also, note that we have $\\nabla_y \\sigma (y) = 1-\\sigma^2(y)$.\n",
    "\n",
    "<span style=\"color:lightseagreen\">\n",
    "    \n",
    "$\\nabla f(x)=\\frac{1}{2N}\\sum_{j=1}^N \\nabla f_j(x)=\\frac{1}{2N}\\sum_{j=1}^N\\begin{bmatrix}\n",
    "\\left(w_1\\left(1-\\sigma^2(u_j^Tz_1)\\right)u_j\\times2\\left(w_1\\sigma(u_j^Tz_1)+w_2\\sigma(u_j^Tz_2)-v_j\\right)+2\\lambda z_1\\right)_{784\\times1}\\\\\n",
    "\\left(w_2\\left(1-\\sigma^2(u_j^Tz_2)\\right)u_j\\times2\\left(w_1\\sigma(u_j^Tz_1)+w_2\\sigma(u_j^Tz_2)-v_j\\right)+2\\lambda z_2\\right)_{784\\times1}\\\\\n",
    "\\left(\\sigma(u_j^Tz_1))\\times2\\left(w_1\\sigma(u_j^Tz_1)+w_2\\sigma(u_j^Tz_2)-v_j\\right)+2\\lambda w_1\\right)_{1\\times1}\\\\\n",
    "\\left((\\sigma(u_j^Tz_2))\\times2\\left(w_1\\sigma(u_j^Tz_1)+w_2\\sigma(u_j^Tz_2)-v_j\\right)+2\\lambda w_2\\right)_{1\\times1}\\\\\n",
    "\\end{bmatrix}_{1570\\times1}$\n",
    "    \n",
    "</span>\n",
    "\n",
    "<pre>\n",
    "</pre>"
   ]
  },
  {
   "cell_type": "code",
   "execution_count": 5,
   "id": "d30bc110",
   "metadata": {
    "scrolled": true
   },
   "outputs": [
    {
     "ename": "NameError",
     "evalue": "name 'N1' is not defined",
     "output_type": "error",
     "traceback": [
      "\u001b[1;31m---------------------------------------------------------------------------\u001b[0m",
      "\u001b[1;31mNameError\u001b[0m                                 Traceback (most recent call last)",
      "Cell \u001b[1;32mIn[5], line 1\u001b[0m\n\u001b[1;32m----> 1\u001b[0m x_0 \u001b[38;5;241m=\u001b[39m np\u001b[38;5;241m.\u001b[39mzeros((\u001b[43mN1\u001b[49m\u001b[38;5;241m*\u001b[39m(N0\u001b[38;5;241m+\u001b[39m\u001b[38;5;241m1\u001b[39m),\u001b[38;5;241m1\u001b[39m))\n\u001b[0;32m      3\u001b[0m \u001b[38;5;28;01mdef\u001b[39;00m \u001b[38;5;21mconvert_x_to_z_and_w\u001b[39m(x):\n\u001b[0;32m      4\u001b[0m     z\u001b[38;5;241m=\u001b[39m np\u001b[38;5;241m.\u001b[39mreshape(x[:\u001b[38;5;241m-\u001b[39mN1,:],(N0,N1))  \u001b[38;5;66;03m# matrix z is N0*N1\u001b[39;00m\n",
      "\u001b[1;31mNameError\u001b[0m: name 'N1' is not defined"
     ]
    }
   ],
   "source": [
    "x_0 = np.zeros((N1*(N0+1),1))\n",
    "\n",
    "def convert_x_to_z_and_w(x):\n",
    "    z= np.reshape(x[:-N1,:],(N0,N1))  # matrix z is N0*N1\n",
    "    w = np.reshape(x[-N1:,:],(N1,1)) # vector w is N1*1\n",
    "    return z,w\n",
    "\n",
    "def sigma(x):\n",
    "    y = np.clip(x, -709, 709)\n",
    "    output=(exp(y)-exp(-y))/(exp(y)+exp(-y))\n",
    "    return output\n",
    "\n",
    "def local_obj_fj(x,j):\n",
    "    convert_results = convert_x_to_z_and_w(x)\n",
    "    z = convert_results[0]\n",
    "    w = convert_results[1]\n",
    "    first_part = (sum(w[[i],:]*sigma(np.dot(U_train[:,[j]].T,z[:,[i]]))for i in range (N1)) - v_train[0,j] )**2 \n",
    "    return first_part/2 + (0.5*lamda*(LA.norm(z,'fro')**2+ LA.norm(w)**2)) \n",
    "\n",
    "def obj_f(x):\n",
    "    output = sum(local_obj_fj(x,j) for j in range (N))\n",
    "    return output/N\n",
    "\n",
    "def stoch_grad_F(x,j):\n",
    "    convert_results = convert_x_to_z_and_w(x)\n",
    "    z = convert_results[0]\n",
    "    w = convert_results[1]\n",
    "    p_z1 = w[[0],:]*(1-(sigma(np.dot(U_train[:,[j]].T,z[:,[0]])))**2)*((sum(w[[i],:]*sigma(np.dot(U_train[:,[j]].T,z[:,[i]]))for i in range (N1)) - v_train[0,j] )**2)*U_train[:,[j]] \n",
    "    p_z2 = w[[1],:]*(1-(sigma(np.dot(U_train[:,[j]].T,z[:,[1]])))**2)*((sum(w[[i],:]*sigma(np.dot(U_train[:,[j]].T,z[:,[i]]))for i in range (N1)) - v_train[0,j] )**2)*U_train[:,[j]] \n",
    "    p_w1 = sigma(np.dot(U_train[:,[j]].T,z[:,[0]]))*((sum(w[[i],:]*sigma(np.dot(U_train[:,[j]].T,z[:,[i]]))for i in range (N1)) - v_train[0,j] )**2) \n",
    "    p_w2 = sigma(np.dot(U_train[:,[j]].T,z[:,[1]]))*((sum(w[[i],:]*sigma(np.dot(U_train[:,[j]].T,z[:,[i]]))for i in range (N1)) - v_train[0,j] )**2) \n",
    "    stocha_grad = np.concatenate((p_z1,p_z2,p_w1,p_w2),axis=0)\n",
    "    return stocha_grad + lamda*x \n",
    "\n",
    "def true_grad(x):\n",
    "    output = sum(stoch_grad_F(x,j) for j in range (N))/N\n",
    "    return output/2"
   ]
  },
  {
   "cell_type": "code",
   "execution_count": 6,
   "id": "699fe1d5",
   "metadata": {},
   "outputs": [],
   "source": [
    "# Lambda can be 10 ** -1 or -2"
   ]
  }
 ],
 "metadata": {
  "kernelspec": {
   "display_name": "Python 3 (ipykernel)",
   "language": "python",
   "name": "python3"
  },
  "language_info": {
   "codemirror_mode": {
    "name": "ipython",
    "version": 3
   },
   "file_extension": ".py",
   "mimetype": "text/x-python",
   "name": "python",
   "nbconvert_exporter": "python",
   "pygments_lexer": "ipython3",
   "version": "3.10.9"
  }
 },
 "nbformat": 4,
 "nbformat_minor": 5
}
